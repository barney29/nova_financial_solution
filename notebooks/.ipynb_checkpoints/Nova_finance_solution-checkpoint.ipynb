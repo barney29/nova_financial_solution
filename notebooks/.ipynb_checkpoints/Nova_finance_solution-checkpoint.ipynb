{
 "cells": [
  {
   "cell_type": "code",
   "execution_count": 1,
   "id": "c61c805d",
   "metadata": {},
   "outputs": [
    {
     "name": "stderr",
     "output_type": "stream",
     "text": [
      "/usr/lib/python3/dist-packages/scipy/__init__.py:146: UserWarning: A NumPy version >=1.17.3 and <1.25.0 is required for this version of SciPy (detected version 1.26.3\n",
      "  warnings.warn(f\"A NumPy version >={np_minversion} and <{np_maxversion}\"\n",
      "[nltk_data] Error loading punkt: <urlopen error [Errno -2] Name or\n",
      "[nltk_data]     service not known>\n",
      "[nltk_data] Error loading averaged_perceptron_tagger: <urlopen error\n",
      "[nltk_data]     [Errno -2] Name or service not known>\n",
      "[nltk_data] Error loading vader_lexicon: <urlopen error [Errno -2]\n",
      "[nltk_data]     Name or service not known>\n",
      "[nltk_data] Error loading maxent_ne_chunker: <urlopen error [Errno -2]\n",
      "[nltk_data]     Name or service not known>\n",
      "[nltk_data] Error loading words: <urlopen error [Errno -2] Name or\n",
      "[nltk_data]     service not known>\n"
     ]
    },
    {
     "data": {
      "text/plain": [
       "False"
      ]
     },
     "execution_count": 1,
     "metadata": {},
     "output_type": "execute_result"
    }
   ],
   "source": [
    "import pandas as pd\n",
    "import numpy as np\n",
    "import matplotlib.pyplot as plt\n",
    "import seaborn as sns\n",
    "import nltk\n",
    "from nltk.sentiment import SentimentIntensityAnalyzer\n",
    "from tqdm import tqdm\n",
    "nltk.download('punkt')\n",
    "nltk.download('averaged_perceptron_tagger')\n",
    "nltk.download('vader_lexicon')\n",
    "nltk.download('maxent_ne_chunker')\n",
    "nltk.download('words')"
   ]
  },
  {
   "cell_type": "code",
   "execution_count": 2,
   "id": "985bd59e",
   "metadata": {},
   "outputs": [],
   "source": [
    "df = pd.read_csv('../data/raw_analyst_ratings.csv')"
   ]
  },
  {
   "cell_type": "markdown",
   "id": "76388051",
   "metadata": {},
   "source": [
    "## Exploring the data"
   ]
  },
  {
   "cell_type": "code",
   "execution_count": 3,
   "id": "1678cc4a",
   "metadata": {},
   "outputs": [
    {
     "data": {
      "text/html": [
       "<div>\n",
       "<style scoped>\n",
       "    .dataframe tbody tr th:only-of-type {\n",
       "        vertical-align: middle;\n",
       "    }\n",
       "\n",
       "    .dataframe tbody tr th {\n",
       "        vertical-align: top;\n",
       "    }\n",
       "\n",
       "    .dataframe thead th {\n",
       "        text-align: right;\n",
       "    }\n",
       "</style>\n",
       "<table border=\"1\" class=\"dataframe\">\n",
       "  <thead>\n",
       "    <tr style=\"text-align: right;\">\n",
       "      <th></th>\n",
       "      <th>Unnamed: 0</th>\n",
       "      <th>headline</th>\n",
       "      <th>url</th>\n",
       "      <th>publisher</th>\n",
       "      <th>date</th>\n",
       "      <th>stock</th>\n",
       "    </tr>\n",
       "  </thead>\n",
       "  <tbody>\n",
       "    <tr>\n",
       "      <th>0</th>\n",
       "      <td>0</td>\n",
       "      <td>Stocks That Hit 52-Week Highs On Friday</td>\n",
       "      <td>https://www.benzinga.com/news/20/06/16190091/s...</td>\n",
       "      <td>Benzinga Insights</td>\n",
       "      <td>2020-06-05 10:30:54-04:00</td>\n",
       "      <td>A</td>\n",
       "    </tr>\n",
       "    <tr>\n",
       "      <th>1</th>\n",
       "      <td>1</td>\n",
       "      <td>Stocks That Hit 52-Week Highs On Wednesday</td>\n",
       "      <td>https://www.benzinga.com/news/20/06/16170189/s...</td>\n",
       "      <td>Benzinga Insights</td>\n",
       "      <td>2020-06-03 10:45:20-04:00</td>\n",
       "      <td>A</td>\n",
       "    </tr>\n",
       "    <tr>\n",
       "      <th>2</th>\n",
       "      <td>2</td>\n",
       "      <td>71 Biggest Movers From Friday</td>\n",
       "      <td>https://www.benzinga.com/news/20/05/16103463/7...</td>\n",
       "      <td>Lisa Levin</td>\n",
       "      <td>2020-05-26 04:30:07-04:00</td>\n",
       "      <td>A</td>\n",
       "    </tr>\n",
       "    <tr>\n",
       "      <th>3</th>\n",
       "      <td>3</td>\n",
       "      <td>46 Stocks Moving In Friday's Mid-Day Session</td>\n",
       "      <td>https://www.benzinga.com/news/20/05/16095921/4...</td>\n",
       "      <td>Lisa Levin</td>\n",
       "      <td>2020-05-22 12:45:06-04:00</td>\n",
       "      <td>A</td>\n",
       "    </tr>\n",
       "    <tr>\n",
       "      <th>4</th>\n",
       "      <td>4</td>\n",
       "      <td>B of A Securities Maintains Neutral on Agilent...</td>\n",
       "      <td>https://www.benzinga.com/news/20/05/16095304/b...</td>\n",
       "      <td>Vick Meyer</td>\n",
       "      <td>2020-05-22 11:38:59-04:00</td>\n",
       "      <td>A</td>\n",
       "    </tr>\n",
       "  </tbody>\n",
       "</table>\n",
       "</div>"
      ],
      "text/plain": [
       "   Unnamed: 0                                           headline  \\\n",
       "0           0            Stocks That Hit 52-Week Highs On Friday   \n",
       "1           1         Stocks That Hit 52-Week Highs On Wednesday   \n",
       "2           2                      71 Biggest Movers From Friday   \n",
       "3           3       46 Stocks Moving In Friday's Mid-Day Session   \n",
       "4           4  B of A Securities Maintains Neutral on Agilent...   \n",
       "\n",
       "                                                 url          publisher  \\\n",
       "0  https://www.benzinga.com/news/20/06/16190091/s...  Benzinga Insights   \n",
       "1  https://www.benzinga.com/news/20/06/16170189/s...  Benzinga Insights   \n",
       "2  https://www.benzinga.com/news/20/05/16103463/7...         Lisa Levin   \n",
       "3  https://www.benzinga.com/news/20/05/16095921/4...         Lisa Levin   \n",
       "4  https://www.benzinga.com/news/20/05/16095304/b...         Vick Meyer   \n",
       "\n",
       "                        date stock  \n",
       "0  2020-06-05 10:30:54-04:00     A  \n",
       "1  2020-06-03 10:45:20-04:00     A  \n",
       "2  2020-05-26 04:30:07-04:00     A  \n",
       "3  2020-05-22 12:45:06-04:00     A  \n",
       "4  2020-05-22 11:38:59-04:00     A  "
      ]
     },
     "execution_count": 3,
     "metadata": {},
     "output_type": "execute_result"
    }
   ],
   "source": [
    "df.head()"
   ]
  },
  {
   "cell_type": "code",
   "execution_count": 4,
   "id": "e11dba29",
   "metadata": {},
   "outputs": [
    {
     "name": "stdout",
     "output_type": "stream",
     "text": [
      "<class 'pandas.core.frame.DataFrame'>\n",
      "RangeIndex: 1407328 entries, 0 to 1407327\n",
      "Data columns (total 6 columns):\n",
      " #   Column      Non-Null Count    Dtype \n",
      "---  ------      --------------    ----- \n",
      " 0   Unnamed: 0  1407328 non-null  int64 \n",
      " 1   headline    1407328 non-null  object\n",
      " 2   url         1407328 non-null  object\n",
      " 3   publisher   1407328 non-null  object\n",
      " 4   date        1407328 non-null  object\n",
      " 5   stock       1407328 non-null  object\n",
      "dtypes: int64(1), object(5)\n",
      "memory usage: 64.4+ MB\n"
     ]
    }
   ],
   "source": [
    "df.info()"
   ]
  },
  {
   "cell_type": "code",
   "execution_count": 5,
   "id": "b4ed2f57",
   "metadata": {},
   "outputs": [
    {
     "data": {
      "text/plain": [
       "(1407328, 6)"
      ]
     },
     "execution_count": 5,
     "metadata": {},
     "output_type": "execute_result"
    }
   ],
   "source": [
    "df.shape"
   ]
  },
  {
   "cell_type": "code",
   "execution_count": 6,
   "id": "e2002c28",
   "metadata": {},
   "outputs": [
    {
     "data": {
      "text/plain": [
       "Unnamed: 0    0\n",
       "headline      0\n",
       "url           0\n",
       "publisher     0\n",
       "date          0\n",
       "stock         0\n",
       "dtype: int64"
      ]
     },
     "execution_count": 6,
     "metadata": {},
     "output_type": "execute_result"
    }
   ],
   "source": [
    "df.isnull().sum()"
   ]
  },
  {
   "cell_type": "markdown",
   "id": "3a24c50d",
   "metadata": {},
   "source": [
    "## Cleaning and shrinking data"
   ]
  },
  {
   "cell_type": "code",
   "execution_count": 7,
   "id": "0ca5e1f6",
   "metadata": {},
   "outputs": [],
   "source": [
    "df = df.drop(['Unnamed: 0'], axis=1)\n",
    "# df = df[:100]"
   ]
  },
  {
   "cell_type": "code",
   "execution_count": null,
   "id": "c89cea5d",
   "metadata": {},
   "outputs": [],
   "source": []
  },
  {
   "cell_type": "markdown",
   "id": "5cb4245c",
   "metadata": {},
   "source": [
    "## Basic Describtive analysis"
   ]
  },
  {
   "cell_type": "code",
   "execution_count": 8,
   "id": "97678f9a",
   "metadata": {},
   "outputs": [
    {
     "data": {
      "text/html": [
       "<div>\n",
       "<style scoped>\n",
       "    .dataframe tbody tr th:only-of-type {\n",
       "        vertical-align: middle;\n",
       "    }\n",
       "\n",
       "    .dataframe tbody tr th {\n",
       "        vertical-align: top;\n",
       "    }\n",
       "\n",
       "    .dataframe thead th {\n",
       "        text-align: right;\n",
       "    }\n",
       "</style>\n",
       "<table border=\"1\" class=\"dataframe\">\n",
       "  <thead>\n",
       "    <tr style=\"text-align: right;\">\n",
       "      <th></th>\n",
       "      <th>headline</th>\n",
       "      <th>url</th>\n",
       "      <th>publisher</th>\n",
       "      <th>date</th>\n",
       "      <th>stock</th>\n",
       "      <th>headline_len</th>\n",
       "    </tr>\n",
       "  </thead>\n",
       "  <tbody>\n",
       "    <tr>\n",
       "      <th>0</th>\n",
       "      <td>Stocks That Hit 52-Week Highs On Friday</td>\n",
       "      <td>https://www.benzinga.com/news/20/06/16190091/s...</td>\n",
       "      <td>Benzinga Insights</td>\n",
       "      <td>2020-06-05 10:30:54-04:00</td>\n",
       "      <td>A</td>\n",
       "      <td>39</td>\n",
       "    </tr>\n",
       "    <tr>\n",
       "      <th>1</th>\n",
       "      <td>Stocks That Hit 52-Week Highs On Wednesday</td>\n",
       "      <td>https://www.benzinga.com/news/20/06/16170189/s...</td>\n",
       "      <td>Benzinga Insights</td>\n",
       "      <td>2020-06-03 10:45:20-04:00</td>\n",
       "      <td>A</td>\n",
       "      <td>42</td>\n",
       "    </tr>\n",
       "    <tr>\n",
       "      <th>2</th>\n",
       "      <td>71 Biggest Movers From Friday</td>\n",
       "      <td>https://www.benzinga.com/news/20/05/16103463/7...</td>\n",
       "      <td>Lisa Levin</td>\n",
       "      <td>2020-05-26 04:30:07-04:00</td>\n",
       "      <td>A</td>\n",
       "      <td>29</td>\n",
       "    </tr>\n",
       "    <tr>\n",
       "      <th>3</th>\n",
       "      <td>46 Stocks Moving In Friday's Mid-Day Session</td>\n",
       "      <td>https://www.benzinga.com/news/20/05/16095921/4...</td>\n",
       "      <td>Lisa Levin</td>\n",
       "      <td>2020-05-22 12:45:06-04:00</td>\n",
       "      <td>A</td>\n",
       "      <td>44</td>\n",
       "    </tr>\n",
       "    <tr>\n",
       "      <th>4</th>\n",
       "      <td>B of A Securities Maintains Neutral on Agilent...</td>\n",
       "      <td>https://www.benzinga.com/news/20/05/16095304/b...</td>\n",
       "      <td>Vick Meyer</td>\n",
       "      <td>2020-05-22 11:38:59-04:00</td>\n",
       "      <td>A</td>\n",
       "      <td>87</td>\n",
       "    </tr>\n",
       "  </tbody>\n",
       "</table>\n",
       "</div>"
      ],
      "text/plain": [
       "                                            headline  \\\n",
       "0            Stocks That Hit 52-Week Highs On Friday   \n",
       "1         Stocks That Hit 52-Week Highs On Wednesday   \n",
       "2                      71 Biggest Movers From Friday   \n",
       "3       46 Stocks Moving In Friday's Mid-Day Session   \n",
       "4  B of A Securities Maintains Neutral on Agilent...   \n",
       "\n",
       "                                                 url          publisher  \\\n",
       "0  https://www.benzinga.com/news/20/06/16190091/s...  Benzinga Insights   \n",
       "1  https://www.benzinga.com/news/20/06/16170189/s...  Benzinga Insights   \n",
       "2  https://www.benzinga.com/news/20/05/16103463/7...         Lisa Levin   \n",
       "3  https://www.benzinga.com/news/20/05/16095921/4...         Lisa Levin   \n",
       "4  https://www.benzinga.com/news/20/05/16095304/b...         Vick Meyer   \n",
       "\n",
       "                        date stock  headline_len  \n",
       "0  2020-06-05 10:30:54-04:00     A            39  \n",
       "1  2020-06-03 10:45:20-04:00     A            42  \n",
       "2  2020-05-26 04:30:07-04:00     A            29  \n",
       "3  2020-05-22 12:45:06-04:00     A            44  \n",
       "4  2020-05-22 11:38:59-04:00     A            87  "
      ]
     },
     "execution_count": 8,
     "metadata": {},
     "output_type": "execute_result"
    }
   ],
   "source": [
    "#headline length\n",
    "df['headline_len'] = df['headline'].apply(lambda x: len(x))\n",
    "df.head()"
   ]
  },
  {
   "cell_type": "code",
   "execution_count": 9,
   "id": "705707c8",
   "metadata": {},
   "outputs": [
    {
     "data": {
      "text/html": [
       "<div>\n",
       "<style scoped>\n",
       "    .dataframe tbody tr th:only-of-type {\n",
       "        vertical-align: middle;\n",
       "    }\n",
       "\n",
       "    .dataframe tbody tr th {\n",
       "        vertical-align: top;\n",
       "    }\n",
       "\n",
       "    .dataframe thead th {\n",
       "        text-align: right;\n",
       "    }\n",
       "</style>\n",
       "<table border=\"1\" class=\"dataframe\">\n",
       "  <thead>\n",
       "    <tr style=\"text-align: right;\">\n",
       "      <th></th>\n",
       "      <th>headline</th>\n",
       "      <th>url</th>\n",
       "      <th>publisher</th>\n",
       "      <th>date</th>\n",
       "      <th>stock</th>\n",
       "      <th>headline_len</th>\n",
       "      <th>publisher_nleng</th>\n",
       "    </tr>\n",
       "  </thead>\n",
       "  <tbody>\n",
       "    <tr>\n",
       "      <th>0</th>\n",
       "      <td>Stocks That Hit 52-Week Highs On Friday</td>\n",
       "      <td>https://www.benzinga.com/news/20/06/16190091/s...</td>\n",
       "      <td>Benzinga Insights</td>\n",
       "      <td>2020-06-05 10:30:54-04:00</td>\n",
       "      <td>A</td>\n",
       "      <td>39</td>\n",
       "      <td>17</td>\n",
       "    </tr>\n",
       "    <tr>\n",
       "      <th>1</th>\n",
       "      <td>Stocks That Hit 52-Week Highs On Wednesday</td>\n",
       "      <td>https://www.benzinga.com/news/20/06/16170189/s...</td>\n",
       "      <td>Benzinga Insights</td>\n",
       "      <td>2020-06-03 10:45:20-04:00</td>\n",
       "      <td>A</td>\n",
       "      <td>42</td>\n",
       "      <td>17</td>\n",
       "    </tr>\n",
       "    <tr>\n",
       "      <th>2</th>\n",
       "      <td>71 Biggest Movers From Friday</td>\n",
       "      <td>https://www.benzinga.com/news/20/05/16103463/7...</td>\n",
       "      <td>Lisa Levin</td>\n",
       "      <td>2020-05-26 04:30:07-04:00</td>\n",
       "      <td>A</td>\n",
       "      <td>29</td>\n",
       "      <td>10</td>\n",
       "    </tr>\n",
       "    <tr>\n",
       "      <th>3</th>\n",
       "      <td>46 Stocks Moving In Friday's Mid-Day Session</td>\n",
       "      <td>https://www.benzinga.com/news/20/05/16095921/4...</td>\n",
       "      <td>Lisa Levin</td>\n",
       "      <td>2020-05-22 12:45:06-04:00</td>\n",
       "      <td>A</td>\n",
       "      <td>44</td>\n",
       "      <td>10</td>\n",
       "    </tr>\n",
       "    <tr>\n",
       "      <th>4</th>\n",
       "      <td>B of A Securities Maintains Neutral on Agilent...</td>\n",
       "      <td>https://www.benzinga.com/news/20/05/16095304/b...</td>\n",
       "      <td>Vick Meyer</td>\n",
       "      <td>2020-05-22 11:38:59-04:00</td>\n",
       "      <td>A</td>\n",
       "      <td>87</td>\n",
       "      <td>10</td>\n",
       "    </tr>\n",
       "  </tbody>\n",
       "</table>\n",
       "</div>"
      ],
      "text/plain": [
       "                                            headline  \\\n",
       "0            Stocks That Hit 52-Week Highs On Friday   \n",
       "1         Stocks That Hit 52-Week Highs On Wednesday   \n",
       "2                      71 Biggest Movers From Friday   \n",
       "3       46 Stocks Moving In Friday's Mid-Day Session   \n",
       "4  B of A Securities Maintains Neutral on Agilent...   \n",
       "\n",
       "                                                 url          publisher  \\\n",
       "0  https://www.benzinga.com/news/20/06/16190091/s...  Benzinga Insights   \n",
       "1  https://www.benzinga.com/news/20/06/16170189/s...  Benzinga Insights   \n",
       "2  https://www.benzinga.com/news/20/05/16103463/7...         Lisa Levin   \n",
       "3  https://www.benzinga.com/news/20/05/16095921/4...         Lisa Levin   \n",
       "4  https://www.benzinga.com/news/20/05/16095304/b...         Vick Meyer   \n",
       "\n",
       "                        date stock  headline_len  publisher_nleng  \n",
       "0  2020-06-05 10:30:54-04:00     A            39               17  \n",
       "1  2020-06-03 10:45:20-04:00     A            42               17  \n",
       "2  2020-05-26 04:30:07-04:00     A            29               10  \n",
       "3  2020-05-22 12:45:06-04:00     A            44               10  \n",
       "4  2020-05-22 11:38:59-04:00     A            87               10  "
      ]
     },
     "execution_count": 9,
     "metadata": {},
     "output_type": "execute_result"
    }
   ],
   "source": [
    "#publisher name length\n",
    "df['publisher_nleng'] = df['publisher'].apply(lambda x: len(x))\n",
    "df.head()"
   ]
  },
  {
   "cell_type": "code",
   "execution_count": 10,
   "id": "43de2b54",
   "metadata": {},
   "outputs": [],
   "source": [
    "ten_top_publisher = df['publisher'].value_counts().sort_values(ascending=False).head(10)"
   ]
  },
  {
   "cell_type": "code",
   "execution_count": 11,
   "id": "378a711c",
   "metadata": {},
   "outputs": [
    {
     "data": {
      "image/png": "[encoded data removed]",
      "text/plain": [
       "<Figure size 1080x360 with 1 Axes>"
      ]
     },
     "metadata": {
      "needs_background": "light"
     },
     "output_type": "display_data"
    }
   ],
   "source": [
    "#top 10 active publishers are\n",
    "ax = ten_top_publisher.plot(kind='bar', figsize=(15, 5))\n",
    "plt.title('Top ten publishers', fontsize=18)\n",
    "ax.set_ylabel('Number of article', fontsize=18)\n",
    "ax.set_xlabel('Name of publisher', fontsize=18)\n",
    "plt.show()"
   ]
  },
  {
   "cell_type": "markdown",
   "id": "83efe95a",
   "metadata": {},
   "source": [
    "# Time series analysis"
   ]
  },
  {
   "cell_type": "code",
   "execution_count": 12,
   "id": "b9a585e2",
   "metadata": {},
   "outputs": [],
   "source": [
    "df['date'] = pd.to_datetime(df['date'], errors='coerce')"
   ]
  },
  {
   "cell_type": "code",
   "execution_count": 13,
   "id": "a4098c93",
   "metadata": {},
   "outputs": [],
   "source": [
    "day_df = df.resample('D', on='date')"
   ]
  },
  {
   "cell_type": "code",
   "execution_count": 14,
   "id": "0deca40b",
   "metadata": {},
   "outputs": [],
   "source": [
    "# Time series article\n",
    "\n"
   ]
  },
  {
   "cell_type": "code",
   "execution_count": 15,
   "id": "b66d60a7",
   "metadata": {},
   "outputs": [],
   "source": [
    "top_ten_number_of_art_per_day = df['date'].value_counts().sort_values(ascending=False).head(10)"
   ]
  },
  {
   "cell_type": "code",
   "execution_count": 16,
   "id": "d94c0030",
   "metadata": {},
   "outputs": [
    {
     "data": {
      "image/png": "[encoded data removed]",
      "text/plain": [
       "<Figure size 1080x360 with 1 Axes>"
      ]
     },
     "metadata": {
      "needs_background": "light"
     },
     "output_type": "display_data"
    }
   ],
   "source": [
    "ax = top_ten_number_of_art_per_day.plot(kind='bar', color='orange', figsize=(15, 5))\n",
    "plt.title(\"Top ten high number of news per day\", color='green', fontsize=22)\n",
    "ax.set_ylabel('Numbe of news per day', fontsize=20)\n",
    "ax.set_xlabel('Date', fontsize=20)\n",
    "plt.show()"
   ]
  },
  {
   "cell_type": "markdown",
   "id": "032acbc0",
   "metadata": {},
   "source": [
    "# Sentiment Analysis"
   ]
  },
  {
   "cell_type": "code",
   "execution_count": 17,
   "id": "8eaf1e2e",
   "metadata": {},
   "outputs": [],
   "source": [
    "#headline\n",
    "ex = df.sample()\n"
   ]
  },
  {
   "cell_type": "code",
   "execution_count": 18,
   "id": "d62916f7",
   "metadata": {},
   "outputs": [],
   "source": [
    "sia = SentimentIntensityAnalyzer()"
   ]
  },
  {
   "cell_type": "code",
   "execution_count": 19,
   "id": "54688a49",
   "metadata": {},
   "outputs": [],
   "source": [
    "# ##sentiment analysis\n",
    "# res = {}\n",
    "# i = -1\n",
    "# def sentiment_headline(headline):\n",
    "#     \"\"\"\n",
    "#     Function to work with the headline sentiment\n",
    "#     it uses the dict res(result): to store the result\n",
    "#     the global variable i will be incremneted each time the function is executed\n",
    "#     \"\"\"\n",
    "#     global i\n",
    "#     i = i + 1\n",
    "#     res[i] = sia.polarity_scores(headline)\n",
    "\n",
    "# # df['headline'].apply(sentiment_headline)"
   ]
  },
  {
   "cell_type": "code",
   "execution_count": 20,
   "id": "8b19a1ff",
   "metadata": {},
   "outputs": [
    {
     "name": "stderr",
     "output_type": "stream",
     "text": [
      "Processing rows: 100%|███████████████████████| 100/100 [00:00<00:00, 956.88it/s]\n"
     ]
    }
   ],
   "source": [
    "res = {}\n",
    "\n",
    "for i, row in tqdm(df.iterrows(), total=df.shape[0], desc=\"Processing rows\"):\n",
    "    headline = row['headline']\n",
    "    res[i] = sia.polarity_scores(headline)\n"
   ]
  },
  {
   "cell_type": "code",
   "execution_count": 21,
   "id": "7db9100b",
   "metadata": {},
   "outputs": [],
   "source": [
    "vaders = pd.DataFrame(res).T"
   ]
  },
  {
   "cell_type": "code",
   "execution_count": 22,
   "id": "9db2f2bc",
   "metadata": {},
   "outputs": [],
   "source": [
    "vaders = vaders.reset_index()\n",
    "df = df.reset_index()\n",
    "vaders = vaders.merge(df, how=\"left\")"
   ]
  },
  {
   "cell_type": "code",
   "execution_count": 23,
   "id": "ca7c1624",
   "metadata": {},
   "outputs": [
    {
     "data": {
      "text/html": [
       "<div>\n",
       "<style scoped>\n",
       "    .dataframe tbody tr th:only-of-type {\n",
       "        vertical-align: middle;\n",
       "    }\n",
       "\n",
       "    .dataframe tbody tr th {\n",
       "        vertical-align: top;\n",
       "    }\n",
       "\n",
       "    .dataframe thead th {\n",
       "        text-align: right;\n",
       "    }\n",
       "</style>\n",
       "<table border=\"1\" class=\"dataframe\">\n",
       "  <thead>\n",
       "    <tr style=\"text-align: right;\">\n",
       "      <th></th>\n",
       "      <th>neg</th>\n",
       "      <th>neu</th>\n",
       "      <th>pos</th>\n",
       "      <th>compound</th>\n",
       "      <th>headline</th>\n",
       "      <th>url</th>\n",
       "      <th>publisher</th>\n",
       "      <th>date</th>\n",
       "      <th>stock</th>\n",
       "      <th>headline_len</th>\n",
       "      <th>publisher_nleng</th>\n",
       "    </tr>\n",
       "  </thead>\n",
       "  <tbody>\n",
       "    <tr>\n",
       "      <th>0</th>\n",
       "      <td>0.000</td>\n",
       "      <td>1.000</td>\n",
       "      <td>0.000</td>\n",
       "      <td>0.0000</td>\n",
       "      <td>Stocks That Hit 52-Week Highs On Friday</td>\n",
       "      <td>https://www.benzinga.com/news/20/06/16190091/s...</td>\n",
       "      <td>Benzinga Insights</td>\n",
       "      <td>2020-06-05 10:30:54-04:00</td>\n",
       "      <td>A</td>\n",
       "      <td>39</td>\n",
       "      <td>17</td>\n",
       "    </tr>\n",
       "    <tr>\n",
       "      <th>1</th>\n",
       "      <td>0.000</td>\n",
       "      <td>1.000</td>\n",
       "      <td>0.000</td>\n",
       "      <td>0.0000</td>\n",
       "      <td>Stocks That Hit 52-Week Highs On Wednesday</td>\n",
       "      <td>https://www.benzinga.com/news/20/06/16170189/s...</td>\n",
       "      <td>Benzinga Insights</td>\n",
       "      <td>2020-06-03 10:45:20-04:00</td>\n",
       "      <td>A</td>\n",
       "      <td>42</td>\n",
       "      <td>17</td>\n",
       "    </tr>\n",
       "    <tr>\n",
       "      <th>2</th>\n",
       "      <td>0.000</td>\n",
       "      <td>1.000</td>\n",
       "      <td>0.000</td>\n",
       "      <td>0.0000</td>\n",
       "      <td>71 Biggest Movers From Friday</td>\n",
       "      <td>https://www.benzinga.com/news/20/05/16103463/7...</td>\n",
       "      <td>Lisa Levin</td>\n",
       "      <td>2020-05-26 04:30:07-04:00</td>\n",
       "      <td>A</td>\n",
       "      <td>29</td>\n",
       "      <td>10</td>\n",
       "    </tr>\n",
       "    <tr>\n",
       "      <th>3</th>\n",
       "      <td>0.000</td>\n",
       "      <td>1.000</td>\n",
       "      <td>0.000</td>\n",
       "      <td>0.0000</td>\n",
       "      <td>46 Stocks Moving In Friday's Mid-Day Session</td>\n",
       "      <td>https://www.benzinga.com/news/20/05/16095921/4...</td>\n",
       "      <td>Lisa Levin</td>\n",
       "      <td>2020-05-22 12:45:06-04:00</td>\n",
       "      <td>A</td>\n",
       "      <td>44</td>\n",
       "      <td>10</td>\n",
       "    </tr>\n",
       "    <tr>\n",
       "      <th>4</th>\n",
       "      <td>0.000</td>\n",
       "      <td>0.833</td>\n",
       "      <td>0.167</td>\n",
       "      <td>0.2960</td>\n",
       "      <td>B of A Securities Maintains Neutral on Agilent...</td>\n",
       "      <td>https://www.benzinga.com/news/20/05/16095304/b...</td>\n",
       "      <td>Vick Meyer</td>\n",
       "      <td>2020-05-22 11:38:59-04:00</td>\n",
       "      <td>A</td>\n",
       "      <td>87</td>\n",
       "      <td>10</td>\n",
       "    </tr>\n",
       "    <tr>\n",
       "      <th>...</th>\n",
       "      <td>...</td>\n",
       "      <td>...</td>\n",
       "      <td>...</td>\n",
       "      <td>...</td>\n",
       "      <td>...</td>\n",
       "      <td>...</td>\n",
       "      <td>...</td>\n",
       "      <td>...</td>\n",
       "      <td>...</td>\n",
       "      <td>...</td>\n",
       "      <td>...</td>\n",
       "    </tr>\n",
       "    <tr>\n",
       "      <th>95</th>\n",
       "      <td>0.130</td>\n",
       "      <td>0.870</td>\n",
       "      <td>0.000</td>\n",
       "      <td>-0.1280</td>\n",
       "      <td>Barclays Maintains Equal-Weight on Agilent Tec...</td>\n",
       "      <td>https://www.benzinga.com/news/19/10/14566662/b...</td>\n",
       "      <td>Vick Meyer</td>\n",
       "      <td>NaT</td>\n",
       "      <td>A</td>\n",
       "      <td>83</td>\n",
       "      <td>10</td>\n",
       "    </tr>\n",
       "    <tr>\n",
       "      <th>96</th>\n",
       "      <td>0.044</td>\n",
       "      <td>0.794</td>\n",
       "      <td>0.163</td>\n",
       "      <td>0.6124</td>\n",
       "      <td>Shares of several healthcare companies are tra...</td>\n",
       "      <td>https://www.benzinga.com/markets/wiim/19/10/14...</td>\n",
       "      <td>Benzinga Newsdesk</td>\n",
       "      <td>NaT</td>\n",
       "      <td>A</td>\n",
       "      <td>251</td>\n",
       "      <td>17</td>\n",
       "    </tr>\n",
       "    <tr>\n",
       "      <th>97</th>\n",
       "      <td>0.268</td>\n",
       "      <td>0.635</td>\n",
       "      <td>0.096</td>\n",
       "      <td>-0.8126</td>\n",
       "      <td>Shares of several healthcare companies are tra...</td>\n",
       "      <td>https://www.benzinga.com/markets/wiim/19/10/14...</td>\n",
       "      <td>Benzinga Newsdesk</td>\n",
       "      <td>NaT</td>\n",
       "      <td>A</td>\n",
       "      <td>243</td>\n",
       "      <td>17</td>\n",
       "    </tr>\n",
       "    <tr>\n",
       "      <th>98</th>\n",
       "      <td>0.000</td>\n",
       "      <td>0.863</td>\n",
       "      <td>0.137</td>\n",
       "      <td>0.7650</td>\n",
       "      <td>Shares of several healthcare companies are tra...</td>\n",
       "      <td>https://www.benzinga.com/markets/wiim/19/09/14...</td>\n",
       "      <td>Benzinga Newsdesk</td>\n",
       "      <td>NaT</td>\n",
       "      <td>A</td>\n",
       "      <td>304</td>\n",
       "      <td>17</td>\n",
       "    </tr>\n",
       "    <tr>\n",
       "      <th>99</th>\n",
       "      <td>0.000</td>\n",
       "      <td>1.000</td>\n",
       "      <td>0.000</td>\n",
       "      <td>0.0000</td>\n",
       "      <td>Agilent Collaborates On Study Of Performance-E...</td>\n",
       "      <td>https://www.benzinga.com/general/19/09/1436478...</td>\n",
       "      <td>Benzinga Newsdesk</td>\n",
       "      <td>NaT</td>\n",
       "      <td>A</td>\n",
       "      <td>70</td>\n",
       "      <td>17</td>\n",
       "    </tr>\n",
       "  </tbody>\n",
       "</table>\n",
       "<p>100 rows × 11 columns</p>\n",
       "</div>"
      ],
      "text/plain": [
       "      neg    neu    pos  compound  \\\n",
       "0   0.000  1.000  0.000    0.0000   \n",
       "1   0.000  1.000  0.000    0.0000   \n",
       "2   0.000  1.000  0.000    0.0000   \n",
       "3   0.000  1.000  0.000    0.0000   \n",
       "4   0.000  0.833  0.167    0.2960   \n",
       "..    ...    ...    ...       ...   \n",
       "95  0.130  0.870  0.000   -0.1280   \n",
       "96  0.044  0.794  0.163    0.6124   \n",
       "97  0.268  0.635  0.096   -0.8126   \n",
       "98  0.000  0.863  0.137    0.7650   \n",
       "99  0.000  1.000  0.000    0.0000   \n",
       "\n",
       "                                             headline  \\\n",
       "0             Stocks That Hit 52-Week Highs On Friday   \n",
       "1          Stocks That Hit 52-Week Highs On Wednesday   \n",
       "2                       71 Biggest Movers From Friday   \n",
       "3        46 Stocks Moving In Friday's Mid-Day Session   \n",
       "4   B of A Securities Maintains Neutral on Agilent...   \n",
       "..                                                ...   \n",
       "95  Barclays Maintains Equal-Weight on Agilent Tec...   \n",
       "96  Shares of several healthcare companies are tra...   \n",
       "97  Shares of several healthcare companies are tra...   \n",
       "98  Shares of several healthcare companies are tra...   \n",
       "99  Agilent Collaborates On Study Of Performance-E...   \n",
       "\n",
       "                                                  url          publisher  \\\n",
       "0   https://www.benzinga.com/news/20/06/16190091/s...  Benzinga Insights   \n",
       "1   https://www.benzinga.com/news/20/06/16170189/s...  Benzinga Insights   \n",
       "2   https://www.benzinga.com/news/20/05/16103463/7...         Lisa Levin   \n",
       "3   https://www.benzinga.com/news/20/05/16095921/4...         Lisa Levin   \n",
       "4   https://www.benzinga.com/news/20/05/16095304/b...         Vick Meyer   \n",
       "..                                                ...                ...   \n",
       "95  https://www.benzinga.com/news/19/10/14566662/b...         Vick Meyer   \n",
       "96  https://www.benzinga.com/markets/wiim/19/10/14...  Benzinga Newsdesk   \n",
       "97  https://www.benzinga.com/markets/wiim/19/10/14...  Benzinga Newsdesk   \n",
       "98  https://www.benzinga.com/markets/wiim/19/09/14...  Benzinga Newsdesk   \n",
       "99  https://www.benzinga.com/general/19/09/1436478...  Benzinga Newsdesk   \n",
       "\n",
       "                        date stock  headline_len  publisher_nleng  \n",
       "0  2020-06-05 10:30:54-04:00     A            39               17  \n",
       "1  2020-06-03 10:45:20-04:00     A            42               17  \n",
       "2  2020-05-26 04:30:07-04:00     A            29               10  \n",
       "3  2020-05-22 12:45:06-04:00     A            44               10  \n",
       "4  2020-05-22 11:38:59-04:00     A            87               10  \n",
       "..                       ...   ...           ...              ...  \n",
       "95                       NaT     A            83               10  \n",
       "96                       NaT     A           251               17  \n",
       "97                       NaT     A           243               17  \n",
       "98                       NaT     A           304               17  \n",
       "99                       NaT     A            70               17  \n",
       "\n",
       "[100 rows x 11 columns]"
      ]
     },
     "execution_count": 23,
     "metadata": {},
     "output_type": "execute_result"
    }
   ],
   "source": [
    "#sentiment value of each headline\n",
    "vaders = vaders.drop(['index'], axis=1)\n",
    "vaders"
   ]
  },
  {
   "cell_type": "code",
   "execution_count": 24,
   "id": "7cc16b7f",
   "metadata": {},
   "outputs": [],
   "source": [
    "import re"
   ]
  },
  {
   "cell_type": "code",
   "execution_count": 25,
   "id": "e2445c08",
   "metadata": {},
   "outputs": [],
   "source": [
    "pattern = r'@([A-Za-z0-9.-]+\\.[A-Za-z]{2,4})'"
   ]
  },
  {
   "cell_type": "code",
   "execution_count": 26,
   "id": "123fa972",
   "metadata": {},
   "outputs": [],
   "source": [
    "df['domain'] = df['publisher'].str.extract(pattern)"
   ]
  },
  {
   "cell_type": "code",
   "execution_count": 27,
   "id": "79e5404e",
   "metadata": {},
   "outputs": [
    {
     "data": {
      "text/plain": [
       "domain\n",
       "benzinga.com    7\n",
       "Name: count, dtype: int64"
      ]
     },
     "execution_count": 27,
     "metadata": {},
     "output_type": "execute_result"
    }
   ],
   "source": [
    "domain_counts = df['domain'].value_counts()\n",
    "domain_counts"
   ]
  },
  {
   "cell_type": "code",
   "execution_count": 28,
   "id": "d15b7658",
   "metadata": {},
   "outputs": [
    {
     "data": {
      "image/png": "[encoded data removed]",
      "text/plain": [
       "<Figure size 1080x360 with 1 Axes>"
      ]
     },
     "metadata": {
      "needs_background": "light"
     },
     "output_type": "display_data"
    }
   ],
   "source": [
    "ax = domain_counts.plot(kind='bar', figsize=(15, 5))"
   ]
  },
  {
   "cell_type": "raw",
   "id": "0402b7d4",
   "metadata": {},
   "source": [
    "The result shows that the major contributer is with the domain name \"benzinga.com\" following by gmail.com which is incomparable  "
   ]
  },
  {
   "cell_type": "code",
   "execution_count": 29,
   "id": "6bb4388d",
   "metadata": {},
   "outputs": [],
   "source": [
    "df.set_index('date', inplace=True)"
   ]
  },
  {
   "cell_type": "code",
   "execution_count": 30,
   "id": "42dc5757",
   "metadata": {},
   "outputs": [],
   "source": [
    "news_counts = df.resample('H').size()"
   ]
  },
  {
   "cell_type": "code",
   "execution_count": 31,
   "id": "34678f5f",
   "metadata": {},
   "outputs": [],
   "source": [
    "peek_times = news_counts[news_counts == news_counts.max()]"
   ]
  },
  {
   "cell_type": "code",
   "execution_count": 32,
   "id": "4d069f2a",
   "metadata": {},
   "outputs": [
    {
     "data": {
      "text/plain": [
       "<AxesSubplot:title={'center':'Number of News Release'}, xlabel='date'>"
      ]
     },
     "execution_count": 32,
     "metadata": {},
     "output_type": "execute_result"
    },
    {
     "data": {
      "image/png": "[encoded data removed]",
      "text/plain": [
       "<Figure size 432x288 with 1 Axes>"
      ]
     },
     "metadata": {
      "needs_background": "light"
     },
     "output_type": "display_data"
    }
   ],
   "source": [
    "news_counts.plot(kind='line', title='Number of News Release')"
   ]
  },
  {
   "cell_type": "markdown",
   "id": "cc8fc18e",
   "metadata": {},
   "source": [
    "## Vader result\n"
   ]
  },
  {
   "cell_type": "code",
   "execution_count": 33,
   "id": "2f474777",
   "metadata": {},
   "outputs": [
    {
     "data": {
      "image/png": "[encoded data removed]",
      "text/plain": [
       "<Figure size 432x288 with 1 Axes>"
      ]
     },
     "metadata": {
      "needs_background": "light"
     },
     "output_type": "display_data"
    }
   ],
   "source": [
    "ax = sns.barplot(data=vaders, x='headline', y='compound')\n",
    "ax.set_title('Compound Sentiment by headline')\n",
    "plt.show()"
   ]
  },
  {
   "cell_type": "code",
   "execution_count": 34,
   "id": "34a18c04",
   "metadata": {},
   "outputs": [
    {
     "data": {
      "image/png": "[encoded data removed]",
      "text/plain": [
       "<Figure size 1080x360 with 3 Axes>"
      ]
     },
     "metadata": {
      "needs_background": "light"
     },
     "output_type": "display_data"
    }
   ],
   "source": [
    "fig, ax = plt.subplots(1, 3, figsize=(15, 5))\n",
    "sns.barplot(data=vaders, x='headline', y='neg', ax=ax[0])\n",
    "sns.barplot(data=vaders, x='headline', y='neu', ax=ax[1])\n",
    "sns.barplot(data=vaders, x='headline', y='pos', ax=ax[2])\n",
    "ax[0].set_title('Negative')\n",
    "ax[1].set_title('Neutral')\n",
    "ax[2].set_title('Positive')\n",
    "plt.show()"
   ]
  },
  {
   "cell_type": "code",
   "execution_count": null,
   "id": "bcd24f1b",
   "metadata": {},
   "outputs": [],
   "source": []
  }
 ],
 "metadata": {
  "kernelspec": {
   "display_name": "Python 3 (ipykernel)",
   "language": "python",
   "name": "python3"
  },
  "language_info": {
   "codemirror_mode": {
    "name": "ipython",
    "version": 3
   },
   "file_extension": ".py",
   "mimetype": "text/x-python",
   "name": "python",
   "nbconvert_exporter": "python",
   "pygments_lexer": "ipython3",
   "version": "3.10.12"
  }
 },
 "nbformat": 4,
 "nbformat_minor": 5
}
