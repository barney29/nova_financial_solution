{
 "cells": [
  {
   "cell_type": "code",
   "execution_count": 1,
   "id": "337d092f",
   "metadata": {},
   "outputs": [
    {
     "data": {
      "text/html": [
       "<div>\n",
       "<style scoped>\n",
       "    .dataframe tbody tr th:only-of-type {\n",
       "        vertical-align: middle;\n",
       "    }\n",
       "\n",
       "    .dataframe tbody tr th {\n",
       "        vertical-align: top;\n",
       "    }\n",
       "\n",
       "    .dataframe thead th {\n",
       "        text-align: right;\n",
       "    }\n",
       "</style>\n",
       "<table border=\"1\" class=\"dataframe\">\n",
       "  <thead>\n",
       "    <tr style=\"text-align: right;\">\n",
       "      <th></th>\n",
       "      <th>date</th>\n",
       "      <th>stock</th>\n",
       "    </tr>\n",
       "  </thead>\n",
       "  <tbody>\n",
       "    <tr>\n",
       "      <th>0</th>\n",
       "      <td>2020-06-05 10:30:54-04:00</td>\n",
       "      <td>A</td>\n",
       "    </tr>\n",
       "    <tr>\n",
       "      <th>1</th>\n",
       "      <td>2020-06-03 10:45:20-04:00</td>\n",
       "      <td>A</td>\n",
       "    </tr>\n",
       "    <tr>\n",
       "      <th>2</th>\n",
       "      <td>2020-05-26 04:30:07-04:00</td>\n",
       "      <td>A</td>\n",
       "    </tr>\n",
       "    <tr>\n",
       "      <th>3</th>\n",
       "      <td>2020-05-22 12:45:06-04:00</td>\n",
       "      <td>A</td>\n",
       "    </tr>\n",
       "    <tr>\n",
       "      <th>4</th>\n",
       "      <td>2020-05-22 11:38:59-04:00</td>\n",
       "      <td>A</td>\n",
       "    </tr>\n",
       "  </tbody>\n",
       "</table>\n",
       "</div>"
      ],
      "text/plain": [
       "                        date stock\n",
       "0  2020-06-05 10:30:54-04:00     A\n",
       "1  2020-06-03 10:45:20-04:00     A\n",
       "2  2020-05-26 04:30:07-04:00     A\n",
       "3  2020-05-22 12:45:06-04:00     A\n",
       "4  2020-05-22 11:38:59-04:00     A"
      ]
     },
     "execution_count": 1,
     "metadata": {},
     "output_type": "execute_result"
    }
   ],
   "source": [
    "import pandas as pd\n",
    "import yfinance as yf\n",
    "from tqdm import tqdm\n",
    "df = pd.read_csv('../data/raw_analyst_ratings.csv', usecols=['date', 'stock'])\n",
    "df.head()"
   ]
  },
  {
   "cell_type": "code",
   "execution_count": 2,
   "id": "02d2a230",
   "metadata": {},
   "outputs": [],
   "source": [
    "def fetch_stock_prices(symbol, start_date, end_date):\n",
    "    ticker = yf.Ticker(symbol)\n",
    "    return ticker.history(start=start_date, end=end_date)"
   ]
  },
  {
   "cell_type": "code",
   "execution_count": 3,
   "id": "2ef4362f",
   "metadata": {},
   "outputs": [],
   "source": [
    "#changing to date object\n",
    "df['date'] = pd.to_datetime(df['date'], errors='coerce')\n"
   ]
  },
  {
   "cell_type": "code",
   "execution_count": 4,
   "id": "31aa50bd",
   "metadata": {},
   "outputs": [
    {
     "name": "stdout",
     "output_type": "stream",
     "text": [
      "                            min                       max\n",
      "stock                                                    \n",
      "A     2020-05-22 08:06:17-04:00 2020-06-05 10:30:54-04:00\n",
      "AA    2020-05-18 10:50:11-04:00 2020-06-09 10:52:15-04:00\n",
      "AAC   2019-08-30 08:10:37-04:00 2019-10-25 16:09:59-04:00\n",
      "AADR  2013-03-05 15:42:46-04:00 2013-09-06 15:06:35-04:00\n",
      "AAL   2020-06-08 10:19:28-04:00 2020-06-10 11:21:01-04:00\n",
      "...                         ...                       ...\n",
      "ZTR   2016-04-01 15:23:43-04:00 2020-03-19 10:49:42-04:00\n",
      "ZTS   2020-05-05 12:44:19-04:00 2020-06-11 10:22:31-04:00\n",
      "ZU    2015-08-17 10:36:13-04:00 2020-01-09 14:34:23-04:00\n",
      "ZUMZ  2020-04-13 10:01:37-04:00 2020-06-05 07:24:15-04:00\n",
      "ZX    2017-11-14 13:25:57-04:00 2018-06-15 09:01:12-04:00\n",
      "\n",
      "[6204 rows x 2 columns]\n"
     ]
    }
   ],
   "source": [
    "#grouping the stock based on their symbol to identify range\n",
    "grouped_stock = df.groupby('stock')['date'].agg(['min', 'max'])\n",
    "print(grouped_stock)"
   ]
  },
  {
   "cell_type": "code",
   "execution_count": 5,
   "id": "067e92fa",
   "metadata": {
    "scrolled": true
   },
   "outputs": [
    {
     "name": "stderr",
     "output_type": "stream",
     "text": [
      "Processing rows:   0%|                                                                                                                    | 0/5 [00:00<?, ?it/s]HIL: No timezone found, symbol may be delisted\n",
      "Processing rows:   0%|                                                                                                                    | 0/5 [00:06<?, ?it/s]"
     ]
    },
    {
     "name": "stdout",
     "output_type": "stream",
     "text": [
      "Stock prices for HIL from 2020-03-16 17:56:26-04:00 to 2020-05-11 05:14:23-04:00\n",
      "Empty DataFrame\n",
      "Columns: [Open, High, Low, Close, Adj Close, Volume]\n",
      "Index: []\n"
     ]
    },
    {
     "name": "stderr",
     "output_type": "stream",
     "text": [
      "\n"
     ]
    }
   ],
   "source": [
    "#res result dict\n",
    "\n",
    "\n",
    "#since fetching all the stock (6204) will take time I took sample for this example\n",
    "grouped_stock = grouped_stock.sample(5)\n",
    "#itterate and fetch\n",
    "for symbol, row in tqdm(grouped_stock.iterrows(), total=grouped_stock.shape[0], desc=\"Processing rows\"):\n",
    "    stock_prices = fetch_stock_prices(symbol, row['min'], row['max'])\n",
    "    print(f\"Stock prices for {symbol} from {row['min']} to {row['max']}\")\n",
    "    print(stock_prices)\n",
    "    break\n"
   ]
  },
  {
   "cell_type": "code",
   "execution_count": null,
   "id": "45a4edd8",
   "metadata": {},
   "outputs": [],
   "source": []
  },
  {
   "cell_type": "code",
   "execution_count": null,
   "id": "be35a7c5",
   "metadata": {},
   "outputs": [],
   "source": []
  },
  {
   "cell_type": "code",
   "execution_count": null,
   "id": "9ed7f7ba",
   "metadata": {},
   "outputs": [],
   "source": []
  }
 ],
 "metadata": {
  "kernelspec": {
   "display_name": "Python 3 (ipykernel)",
   "language": "python",
   "name": "python3"
  },
  "language_info": {
   "codemirror_mode": {
    "name": "ipython",
    "version": 3
   },
   "file_extension": ".py",
   "mimetype": "text/x-python",
   "name": "python",
   "nbconvert_exporter": "python",
   "pygments_lexer": "ipython3",
   "version": "3.10.12"
  }
 },
 "nbformat": 4,
 "nbformat_minor": 5
}
